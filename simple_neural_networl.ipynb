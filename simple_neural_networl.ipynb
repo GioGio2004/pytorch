{
  "nbformat": 4,
  "nbformat_minor": 0,
  "metadata": {
    "colab": {
      "provenance": [],
      "authorship_tag": "ABX9TyP7U+MVOzKxRBpYGHIbjkMy",
      "include_colab_link": true
    },
    "kernelspec": {
      "name": "python3",
      "display_name": "Python 3"
    },
    "language_info": {
      "name": "python"
    }
  },
  "cells": [
    {
      "cell_type": "markdown",
      "metadata": {
        "id": "view-in-github",
        "colab_type": "text"
      },
      "source": [
        "<a href=\"https://colab.research.google.com/github/GioGio2004/pytorch/blob/main/simple_neural_networl.ipynb\" target=\"_parent\"><img src=\"https://colab.research.google.com/assets/colab-badge.svg\" alt=\"Open In Colab\"/></a>"
      ]
    },
    {
      "cell_type": "code",
      "execution_count": 1,
      "metadata": {
        "id": "VRkPyMNvcrXo"
      },
      "outputs": [],
      "source": [
        "import torch\n",
        "import torch.nn as nn\n",
        "import torch.nn.functional as F"
      ]
    },
    {
      "cell_type": "code",
      "source": [
        "class Model(nn.Module):\n",
        "  def __init__(self, in_features=4, hiddenlayer_1=8, hiddenlayer_2=9, out_features=3):\n",
        "    super().__init__()\n",
        "    self.hidden_layer1 = nn.Linear(in_features, hiddenlayer_1)\n",
        "    self.hidden_layer2 = nn.Linear(hiddenlayer_1, hiddenlayer_2)\n",
        "    self.output_layer = nn.Linear(hiddenlayer_2, out_features)\n",
        "\n",
        "  def forward(self, x):\n",
        "    x = F.relu(self.hidden_layer1(x))\n",
        "    x = F.relu(self.hidden_layer2(x))\n",
        "    x = self.output_layer(x)\n",
        "\n",
        "    return x\n"
      ],
      "metadata": {
        "id": "CfudRLc1ej_J"
      },
      "execution_count": 2,
      "outputs": []
    },
    {
      "cell_type": "code",
      "source": [
        "torch.manual_seed(41)\n",
        "model = Model()"
      ],
      "metadata": {
        "id": "RtvB7mn8h06q"
      },
      "execution_count": 3,
      "outputs": []
    },
    {
      "cell_type": "code",
      "source": [
        "import pandas as pd\n",
        "import matplotlib.pyplot as plt\n",
        "%matplotlib inline\n"
      ],
      "metadata": {
        "id": "sOU2b_ZmkGoJ"
      },
      "execution_count": 4,
      "outputs": []
    },
    {
      "cell_type": "code",
      "source": [
        "url = 'https://gist.githubusercontent.com/curran/a08a1080b88344b0c8a7/raw/0e7a9b0a5d22642a06d3d5b9bcbad9890c8ee534/iris.csv'\n",
        "my_df = pd.read_csv(url)"
      ],
      "metadata": {
        "id": "m-_mEUNykYn_"
      },
      "execution_count": 5,
      "outputs": []
    },
    {
      "cell_type": "code",
      "source": [
        "my_df['species'] = my_df['species'].replace('setosa', 0.0)\n",
        "my_df['species'] = my_df['species'].replace('versicolor', 1.0)\n",
        "my_df['species'] = my_df['species'].replace('virginica', 2.0)"
      ],
      "metadata": {
        "id": "7xgY6B-HmSR1"
      },
      "execution_count": 6,
      "outputs": []
    },
    {
      "cell_type": "code",
      "source": [
        "X = my_df.drop('species', axis=1)\n",
        "y = my_df['species']\n",
        "X = X.values\n",
        "y = y.values"
      ],
      "metadata": {
        "id": "jmBrdk9Nmlul"
      },
      "execution_count": 7,
      "outputs": []
    },
    {
      "cell_type": "code",
      "source": [
        "from sklearn.model_selection import train_test_split\n"
      ],
      "metadata": {
        "id": "KRBsPn6enMnz"
      },
      "execution_count": 8,
      "outputs": []
    },
    {
      "cell_type": "code",
      "source": [
        "X_train, X_test, y_train, y_test = train_test_split(X, y, test_size=0.2, random_state=41)\n",
        "\n",
        "X_train = torch.FloatTensor(X_train)\n",
        "X_test = torch.FloatTensor(X_test)\n",
        "y_train = torch.LongTensor(y_train)\n",
        "y_test = torch.LongTensor(y_test)\n"
      ],
      "metadata": {
        "id": "efI_e2KznWN5"
      },
      "execution_count": 9,
      "outputs": []
    },
    {
      "cell_type": "code",
      "source": [
        "criterion = nn.CrossEntropyLoss()\n",
        "optimizer = torch.optim.Adam(model.parameters(), lr=0.01)"
      ],
      "metadata": {
        "id": "7mWjrJxOpVoZ"
      },
      "execution_count": 10,
      "outputs": []
    },
    {
      "cell_type": "code",
      "source": [
        "epoches = 100\n",
        "error = []\n",
        "for i in range(epoches):\n",
        "  y_pred = model.forward(X_train)\n",
        "  loss = criterion(y_pred, y_train)\n",
        "  error.append(loss.detach().numpy())\n",
        "\n",
        "  if i % 10 == 0:\n",
        "    print(f\"epoch {i} loss: {loss}\")\n",
        "\n",
        "  optimizer.zero_grad()\n",
        "  loss.backward()\n",
        "  optimizer.step()"
      ],
      "metadata": {
        "colab": {
          "base_uri": "https://localhost:8080/"
        },
        "id": "cuAWFo8Xq5gf",
        "outputId": "581106cb-d2cf-49ce-a803-b32f486b8029"
      },
      "execution_count": 15,
      "outputs": [
        {
          "output_type": "stream",
          "name": "stdout",
          "text": [
            "epoch 0 loss: 0.00903741829097271\n",
            "epoch 10 loss: 0.008615588769316673\n",
            "epoch 20 loss: 0.008653796277940273\n",
            "epoch 30 loss: 0.007937375456094742\n",
            "epoch 40 loss: 0.007401105482131243\n",
            "epoch 50 loss: 0.007080807350575924\n",
            "epoch 60 loss: 0.006726674735546112\n",
            "epoch 70 loss: 0.006521536968648434\n",
            "epoch 80 loss: 0.006200295872986317\n",
            "epoch 90 loss: 0.00588409136980772\n"
          ]
        }
      ]
    },
    {
      "cell_type": "code",
      "source": [
        "plt.plot(range(epoches), error)\n",
        "plt.ylabel(\"loss/error\")\n",
        "plt.xlabel(\"epoch\")"
      ],
      "metadata": {
        "id": "tLKkA9hctmxr",
        "colab": {
          "base_uri": "https://localhost:8080/",
          "height": 466
        },
        "outputId": "1ada29b6-c9f7-4a9f-c9f1-ea399d616625"
      },
      "execution_count": 16,
      "outputs": [
        {
          "output_type": "execute_result",
          "data": {
            "text/plain": [
              "Text(0.5, 0, 'epoch')"
            ]
          },
          "metadata": {},
          "execution_count": 16
        },
        {
          "output_type": "display_data",
          "data": {
            "text/plain": [
              "<Figure size 640x480 with 1 Axes>"
            ],
            "image/png": "[encoded data removed]"
          },
          "metadata": {}
        }
      ]
    }
  ]
}